{
 "cells": [
  {
   "cell_type": "markdown",
   "id": "0a68f53f-9ba6-489d-86be-8a8ad553039f",
   "metadata": {
    "tags": []
   },
   "source": [
    "# ヘミシンク音声の解析\n",
    "\n",
    "ヘミシンクはバイノーラルビートで作成されているので、左右のチャンネルに分解してから  \n",
    "それぞれのピーク周波数を比較することで誘導脳波の周波数を求めることができる"
   ]
  },
  {
   "cell_type": "code",
   "execution_count": 1,
   "id": "9a622b44-8325-4991-8185-afdb999f6efa",
   "metadata": {},
   "outputs": [],
   "source": [
    "%matplotlib inline\n",
    "import IPython.display\n",
    "import wavio\n",
    "import numpy as np\n",
    "import pandas as pd\n",
    "import matplotlib.pyplot as plt\n",
    "from scipy.signal import find_peaks\n",
    "\n",
    "def _plot_channel(channel, f_s, threshold, show):\n",
    "    fft_x = np.fft.fft(channel)\n",
    "    n = len(fft_x)\n",
    "    freq = np.fft.fftfreq(n, 1/f_s)\n",
    "    fft_x_shifted = np.fft.fftshift(fft_x)\n",
    "    freq_shifted = np.fft.fftshift(freq)\n",
    "    freq = freq_shifted\n",
    "    db = 20 * np.log10(np.abs(fft_x_shifted))\n",
    "    index, peaks = find_peaks(db, height=threshold)\n",
    "    peak_freq = set()\n",
    "    current_freq = 0\n",
    "    for i in index:\n",
    "        if freq[i] > 20 and freq[i] > current_freq+30:\n",
    "            current_freq = freq[i]\n",
    "            peak_freq.add(int(freq[i]))\n",
    "    peak_freq = sorted(peak_freq)\n",
    "    if show:\n",
    "        print(f\"ピーク値: {'Hz, '.join(map(str, peak_freq))}Hz\")\n",
    "        plt.axhline(y=threshold, color='c')\n",
    "        plt.plot(freq, db)\n",
    "        plt.xlabel(\"Frequency (Hz)\")\n",
    "        plt.ylabel(\"dB\")\n",
    "        plt.yscale('log')\n",
    "        plt.xlim(0, 4096)\n",
    "        plt.ylim(0, 200)\n",
    "        plt.show()\n",
    "        plt.clf()\n",
    "        plt.close()\n",
    "    return peak_freq\n",
    "\n",
    "def plot_spec(file_name, th1 = 100, th2 = 100, show=False):\n",
    "    File = wavio.read(file_name)\n",
    "    rate = File.rate\n",
    "    channel_1 = File.data[:,0]\n",
    "    channel_2 = File.data[:,1]\n",
    "    ch1_peak = _plot_channel(channel_1, rate, th1, show)\n",
    "    ch2_peak = _plot_channel(channel_2, rate, th2, show)\n",
    "    offset_peak = np.array(ch2_peak) - np.array(ch1_peak)\n",
    "    print(f\"ピークの差分(誘導脳波): {'Hz, '.join(map(str, offset_peak))}Hz\")"
   ]
  },
  {
   "cell_type": "markdown",
   "id": "40a824e5-9062-484b-b083-b26e66677fce",
   "metadata": {
    "tags": []
   },
   "source": [
    "## バイノーラルビート音源を作成してみる"
   ]
  },
  {
   "cell_type": "markdown",
   "id": "0eeff0ee-4fbf-4eba-a490-05ddd6dea08c",
   "metadata": {},
   "source": [
    "バイノーラルビートの理論により、ヘッドホンまたはイヤホンからの2つの異なる周波数の信号が、それぞれの耳に1つずつ別々に提示され、  \n",
    "脳は周波数間の位相変化を検出し、その差を調整しようとします。脳波への影響は、各音の周波数の違いによって異なります。  \n",
    "たとえば、片方の耳で400 Hzを再生し、もう一方の耳で430を再生した場合、バイノーラルビートの周波数は30Hzになります。"
   ]
  },
  {
   "cell_type": "code",
   "execution_count": 2,
   "id": "e1b99edd-ea23-417c-83b4-5844aed13510",
   "metadata": {},
   "outputs": [
    {
     "name": "stdout",
     "output_type": "stream",
     "text": [
      "Requirement already satisfied: AccelBrainBeat in /opt/conda/lib/python3.9/site-packages (1.0.5)\n",
      "Requirement already satisfied: pydub in /opt/conda/lib/python3.9/site-packages (0.25.1)\n",
      "Requirement already satisfied: numba in /opt/conda/lib/python3.9/site-packages (0.55.1)\n",
      "Requirement already satisfied: numpy in /opt/conda/lib/python3.9/site-packages (from AccelBrainBeat) (1.21.6)\n",
      "Requirement already satisfied: llvmlite<0.39,>=0.38.0rc1 in /opt/conda/lib/python3.9/site-packages (from numba) (0.38.0)\n",
      "Requirement already satisfied: setuptools in /opt/conda/lib/python3.9/site-packages (from numba) (62.1.0)\n"
     ]
    }
   ],
   "source": [
    "!pip install AccelBrainBeat pydub numba"
   ]
  },
  {
   "cell_type": "code",
   "execution_count": 18,
   "id": "a7484f8c-f082-45e8-8b92-c9b8655687ea",
   "metadata": {},
   "outputs": [
    {
     "name": "stderr",
     "output_type": "stream",
     "text": [
      "/tmp/ipykernel_820621/2487008983.py:16: RuntimeWarning: divide by zero encountered in log10\n",
      "  db = 20 * np.log10(np.abs(fft_x_shifted))\n",
      "/tmp/ipykernel_820621/2487008983.py:33: UserWarning: Attempted to set non-positive bottom ylim on a log-scaled axis.\n",
      "Invalid limit will be ignored.\n",
      "  plt.ylim(0, 200)\n"
     ]
    },
    {
     "name": "stdout",
     "output_type": "stream",
     "text": [
      "ピーク値: 100Hz\n"
     ]
    },
    {
     "data": {
      "image/png": "[encoded data removed]",
      "text/plain": [
       "<Figure size 432x288 with 1 Axes>"
      ]
     },
     "metadata": {
      "needs_background": "light"
     },
     "output_type": "display_data"
    },
    {
     "name": "stderr",
     "output_type": "stream",
     "text": [
      "/tmp/ipykernel_820621/2487008983.py:16: RuntimeWarning: divide by zero encountered in log10\n",
      "  db = 20 * np.log10(np.abs(fft_x_shifted))\n",
      "/tmp/ipykernel_820621/2487008983.py:33: UserWarning: Attempted to set non-positive bottom ylim on a log-scaled axis.\n",
      "Invalid limit will be ignored.\n",
      "  plt.ylim(0, 200)\n"
     ]
    },
    {
     "name": "stdout",
     "output_type": "stream",
     "text": [
      "ピーク値: 104Hz\n"
     ]
    },
    {
     "data": {
      "image/png": "[encoded data removed]",
      "text/plain": [
       "<Figure size 432x288 with 1 Axes>"
      ]
     },
     "metadata": {
      "needs_background": "light"
     },
     "output_type": "display_data"
    },
    {
     "name": "stdout",
     "output_type": "stream",
     "text": [
      "ピークの差分(誘導脳波): 4Hz\n"
     ]
    }
   ],
   "source": [
    "from AccelBrainBeat.brainbeat.binaural_beat import BinauralBeat\n",
    "\n",
    "brain_beat = BinauralBeat() # for binaural beats.\n",
    "file_name = \"test.wav\"\n",
    "brain_beat.save_beat(\n",
    "    output_file_name=file_name,\n",
    "    frequencys=(100, 104), # キャリアー周波数\n",
    "    play_time=100,\n",
    "    volume=0.01\n",
    ")\n",
    "plot_spec(file_name, th1=120, th2=120, show=True)"
   ]
  },
  {
   "cell_type": "markdown",
   "id": "a3c683a3-0b3c-490b-beec-ea8c40c754dc",
   "metadata": {
    "tags": []
   },
   "source": [
    "### 幽体離脱のための音源として有名なヘキサストライク4hz"
   ]
  },
  {
   "cell_type": "code",
   "execution_count": 4,
   "id": "95a4a3d5-dbd0-432f-86f4-641bbca59a7d",
   "metadata": {},
   "outputs": [
    {
     "name": "stdout",
     "output_type": "stream",
     "text": [
      "ピーク値: 89Hz, 199Hz, 500Hz, 999Hz\n"
     ]
    },
    {
     "data": {
      "image/png": "[encoded data removed]",
      "text/plain": [
       "<Figure size 432x288 with 1 Axes>"
      ]
     },
     "metadata": {
      "needs_background": "light"
     },
     "output_type": "display_data"
    },
    {
     "name": "stdout",
     "output_type": "stream",
     "text": [
      "ピーク値: 93Hz, 203Hz, 504Hz, 1003Hz\n"
     ]
    },
    {
     "data": {
      "image/png": "[encoded data removed]",
      "text/plain": [
       "<Figure size 432x288 with 1 Axes>"
      ]
     },
     "metadata": {
      "needs_background": "light"
     },
     "output_type": "display_data"
    },
    {
     "name": "stdout",
     "output_type": "stream",
     "text": [
      "ピークの差分(誘導脳波): 4Hz, 4Hz, 4Hz, 4Hz\n"
     ]
    }
   ],
   "source": [
    "file_name = \"HexaStrike_4hz.wav\"\n",
    "plot_spec(file_name, show=True)"
   ]
  },
  {
   "cell_type": "markdown",
   "id": "1ac7dd0f-37b5-4e25-9ad1-74371414cf81",
   "metadata": {
    "tags": []
   },
   "source": [
    "## ゲートウェイシリーズの分析"
   ]
  },
  {
   "cell_type": "markdown",
   "id": "b7c9afbc-8a8c-4c5f-913b-3eaa8f43d46f",
   "metadata": {},
   "source": [
    "ゲートウェイを含めたヘミシンクシリーズは、バイノーラルビートをベースとした脳波のダビング技術によって特殊な精神状態や体験を誘導するものである。"
   ]
  },
  {
   "cell_type": "markdown",
   "id": "d8a20844-96b7-4672-86ff-c2c14ac108fa",
   "metadata": {
    "tags": []
   },
   "source": [
    "### フォーカス10\n",
    "身体が眠り、意識が目覚めている状態肉体は完全にリラックスして､  \n",
    "肉体からの知覚信号はほとんどなく、心だけが目覚めて意識がはっきりした状態です。"
   ]
  },
  {
   "cell_type": "code",
   "execution_count": 16,
   "id": "9ff10aa1-ed71-4aaa-9fb8-4c916464d4ad",
   "metadata": {},
   "outputs": [
    {
     "name": "stdout",
     "output_type": "stream",
     "text": [
      "ピークの差分(誘導脳波): 4Hz, 4Hz, -4Hz\n"
     ]
    }
   ],
   "source": [
    "file_name = \"フォーカス/F10.wav\"\n",
    "plot_spec(file_name, th1=170, th2=170, show=False)"
   ]
  },
  {
   "cell_type": "markdown",
   "id": "dc48d84d-7c74-49d4-a75e-1519b36fb0df",
   "metadata": {},
   "source": [
    "### フォーカス12\n",
    "意識の拡大した状態・肉体的睡眠は深まりますが､肉体からの覚信号  \n",
    "によって普段は抑えられていたやり方これは、人間の意識がは知覚し始めます。  \n",
    "肉体へ完全に依存した状態から解放され､意識の自由を初めて認識する状態です。"
   ]
  },
  {
   "cell_type": "code",
   "execution_count": 19,
   "id": "0431e21d-5c1c-4b46-a32b-e7b5b799f520",
   "metadata": {},
   "outputs": [
    {
     "name": "stdout",
     "output_type": "stream",
     "text": [
      "ピークの差分(誘導脳波): 0Hz, 1Hz, 4Hz, 4Hz, 4Hz, 10Hz, 10Hz, 10Hz\n"
     ]
    }
   ],
   "source": [
    "file_name = \"フォーカス/F12.wav\"\n",
    "plot_spec(file_name, th1=170, th2=170, show=False)"
   ]
  },
  {
   "cell_type": "markdown",
   "id": "9f534825-3480-46bc-9eaf-f8d36e911c9c",
   "metadata": {},
   "source": [
    "### フォーカス15\n",
    "時間のない状態･フォーカス15では、意識が肉体の知覚から段階的に解放され、  \n",
    "時間のない状態を経験し始めます。 フォーカス15は、心が目覚めた状態のまま  \n",
    "であることを除くと、深い睡眠状態に似ています。"
   ]
  },
  {
   "cell_type": "code",
   "execution_count": 14,
   "id": "1d4b521f-4b09-425e-8bb0-e59bd7a04fa6",
   "metadata": {},
   "outputs": [
    {
     "name": "stdout",
     "output_type": "stream",
     "text": [
      "ピークの差分(誘導脳波): -1Hz, -4Hz, 0Hz, -4Hz, 8Hz, -7Hz, -8Hz\n"
     ]
    }
   ],
   "source": [
    "file_name = \"フォーカス/F15.wav\"\n",
    "plot_spec(file_name, th1=174, th2=174, show=False)"
   ]
  },
  {
   "cell_type": "markdown",
   "id": "8ca5ed90-92ce-462d-a13a-f9055783ed70",
   "metadata": {},
   "source": [
    "### フォーカス21\n",
    "他のエネルギー系・人間の時空のの端であり、非常に深い眠状態にありますが、意識は明瞭で活発に活動しています。"
   ]
  },
  {
   "cell_type": "code",
   "execution_count": 13,
   "id": "4d9c838d-9c60-41c3-9d86-59a2717c73d2",
   "metadata": {},
   "outputs": [
    {
     "name": "stdout",
     "output_type": "stream",
     "text": [
      "ピークの差分(誘導脳波): 0Hz, 4Hz, 4Hz, 4Hz, 16Hz, 16Hz\n"
     ]
    }
   ],
   "source": [
    "file_name = \"フォーカス/F21.wav\"\n",
    "plot_spec(file_name, th1=174, th2=174, show=False)"
   ]
  },
  {
   "cell_type": "markdown",
   "id": "4afa0d1e-e4fd-429e-8b9a-805f8f53bb1f",
   "metadata": {},
   "source": [
    "### フォーカス23\n",
    "肉体が死んだ直後の状態・非常に活発な領域で、肉体の死を経てきた人  \n",
    "たちで溢れています。 彼らは激しい感情の中にいたり、あるいは、思考停止状態や、  \n",
    "乱した状態にいます。"
   ]
  },
  {
   "cell_type": "code",
   "execution_count": 12,
   "id": "49703080-eb8d-4def-b509-de286531ebbe",
   "metadata": {},
   "outputs": [
    {
     "name": "stdout",
     "output_type": "stream",
     "text": [
      "ピークの差分(誘導脳波): -1Hz, -1Hz, -4Hz, -4Hz, -4Hz, -7Hz\n"
     ]
    }
   ],
   "source": [
    "file_name = \"フォーカス/F23.wav\"\n",
    "plot_spec(file_name, th1=174, th2=174, show=False)"
   ]
  },
  {
   "cell_type": "markdown",
   "id": "b3275050-1726-4429-97bf-7967ef5a17b6",
   "metadata": {},
   "source": [
    "### フォーカス25\n",
    "人間世界の歴史に最近登場した主要な組織化されたの信念の表れ。  \n",
    "これには、宗教活動により区別される、キリスト教、仏教、ヒンドゥ教、ユダヤ教 イ  \n",
    "スラム教などの宗教とそのすべての宗派が含まれます。 この世界を訪れた人は、自分の  \n",
    "人生で重要な要素であった信念領域にのみ引き付けられます。 それ以外の信念領域はぼ  \n",
    "んやりとした揺らめくパターンとして認識されます。 個人の知識、経験、および関心に  \n",
    "よりはっきり見える度合いが異なります。"
   ]
  },
  {
   "cell_type": "code",
   "execution_count": 11,
   "id": "7a5531a6-00a5-47b8-9df5-fad6b25ad038",
   "metadata": {},
   "outputs": [
    {
     "name": "stdout",
     "output_type": "stream",
     "text": [
      "ピークの差分(誘導脳波): -1Hz, 4Hz, 4Hz, 4Hz, 3Hz, 4Hz, 3Hz, 4Hz, 3Hz\n"
     ]
    }
   ],
   "source": [
    "file_name = \"フォーカス/F25.wav\"\n",
    "plot_spec(file_name, th1=165, th2=165, show=False)"
   ]
  },
  {
   "cell_type": "markdown",
   "id": "e872abd8-c7e0-4f72-90ba-19968a088490",
   "metadata": {},
   "source": [
    "### フォーカス27\n",
    "現在組織化されつつある人間思考能力の先端、 「公園」のある場所、肉  \n",
    "体の死によるトラウマから回復し、休息するための中継点。"
   ]
  },
  {
   "cell_type": "code",
   "execution_count": 10,
   "id": "299edcf1-d855-469a-9f34-73f5dd1bbfad",
   "metadata": {},
   "outputs": [
    {
     "name": "stdout",
     "output_type": "stream",
     "text": [
      "ピークの差分(誘導脳波): -1Hz, 4Hz, 4Hz, 4Hz, 4Hz, 4Hz, 0Hz\n"
     ]
    }
   ],
   "source": [
    "file_name = \"フォーカス/F27.wav\"\n",
    "plot_spec(file_name, th1=156, th2=157, show=False)"
   ]
  },
  {
   "cell_type": "markdown",
   "id": "0ae78c33-42ec-4374-acac-9488b5c4c603",
   "metadata": {},
   "source": [
    "## シングル・タイトルの解析"
   ]
  },
  {
   "cell_type": "markdown",
   "id": "9bbbc304-59a7-4bfa-bba2-dc1f80f35de4",
   "metadata": {},
   "source": [
    "### Einstein's Dream"
   ]
  },
  {
   "cell_type": "code",
   "execution_count": 7,
   "id": "7d3a066f-2401-4842-b7cc-bd753b6ab98c",
   "metadata": {},
   "outputs": [
    {
     "name": "stdout",
     "output_type": "stream",
     "text": [
      "ピークの差分(誘導脳波): -4Hz, -16Hz\n"
     ]
    }
   ],
   "source": [
    "file_name = \"Einsteins_Dream/Concentration.wav\"\n",
    "plot_spec(file_name, th1=190, th2=190, show=False)"
   ]
  },
  {
   "cell_type": "code",
   "execution_count": 8,
   "id": "5091db4f-6c6b-46c8-b39f-55df194b7680",
   "metadata": {},
   "outputs": [
    {
     "name": "stdout",
     "output_type": "stream",
     "text": [
      "ピークの差分(誘導脳波): -8Hz, -16Hz, -24Hz\n"
     ]
    }
   ],
   "source": [
    "file_name = \"Einsteins_Dream/Attention.wav\"\n",
    "plot_spec(file_name, th1=190, th2=190, show=False)"
   ]
  },
  {
   "cell_type": "markdown",
   "id": "00df3c86-8e39-4885-8d18-d588b817dac7",
   "metadata": {},
   "source": [
    "### 情報にアクセスする"
   ]
  },
  {
   "cell_type": "code",
   "execution_count": null,
   "id": "167b5d57-ca11-413c-a4d3-1da9331e54ab",
   "metadata": {},
   "outputs": [],
   "source": [
    "file_name = \"情報にアクセスする/Access_to_Information.wav\"\n",
    "plot_spec(file_name)"
   ]
  },
  {
   "cell_type": "markdown",
   "id": "4a7b3984-6cc0-4317-ad2f-472fbcd4b94c",
   "metadata": {},
   "source": [
    "### ヘミシンクによるヒーリング・ジャーニーズ・サポート"
   ]
  },
  {
   "cell_type": "code",
   "execution_count": null,
   "id": "5c8cb664-072f-489d-aef5-341a6f2e6351",
   "metadata": {},
   "outputs": [],
   "source": [
    "file_name = \"ヘミシンクによるヒーリング・ジャーニーズ・サポート/Heart_Energy.wav\"\n",
    "plot_spec(file_name)"
   ]
  },
  {
   "cell_type": "markdown",
   "id": "db206b11-d156-4570-bba5-2d5cc53485a1",
   "metadata": {},
   "source": [
    "### パティ・サマーズの「動物たちと話そう」"
   ]
  },
  {
   "cell_type": "code",
   "execution_count": null,
   "id": "d14dd239-4cee-4f25-a979-22e6ae21142d",
   "metadata": {},
   "outputs": [],
   "source": [
    "file_name = \"Communicating_with_Animals.wav\"\n",
    "plot_spec(file_name)"
   ]
  },
  {
   "cell_type": "markdown",
   "id": "ff625bf8-5050-404b-b8ab-d9ce7b138eca",
   "metadata": {},
   "source": [
    "## 音声を分解してみる"
   ]
  },
  {
   "cell_type": "markdown",
   "id": "61d80581-cd24-40aa-b9a9-a694fc1cb615",
   "metadata": {},
   "source": [
    "## 覚醒音の繰り返し"
   ]
  },
  {
   "cell_type": "code",
   "execution_count": 9,
   "id": "70297427-4325-4050-aa86-842cb509e601",
   "metadata": {},
   "outputs": [
    {
     "name": "stdout",
     "output_type": "stream",
     "text": [
      "ピークの差分(誘導脳波): 16Hz, 40Hz\n"
     ]
    }
   ],
   "source": [
    "file_name = \"wakeup.wav\"\n",
    "plot_spec(file_name, th1=170, th2=170, show=False)"
   ]
  }
 ],
 "metadata": {
  "kernelspec": {
   "display_name": "Python 3 (ipykernel)",
   "language": "python",
   "name": "python3"
  },
  "language_info": {
   "codemirror_mode": {
    "name": "ipython",
    "version": 3
   },
   "file_extension": ".py",
   "mimetype": "text/x-python",
   "name": "python",
   "nbconvert_exporter": "python",
   "pygments_lexer": "ipython3",
   "version": "3.9.10"
  },
  "toc-autonumbering": true,
  "toc-showcode": false,
  "toc-showmarkdowntxt": false
 },
 "nbformat": 4,
 "nbformat_minor": 5
}
